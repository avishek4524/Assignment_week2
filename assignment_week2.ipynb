{
 "cells": [
  {
   "cell_type": "code",
   "execution_count": null,
   "id": "67edfda7-7402-4e47-b6a3-6fc93547997b",
   "metadata": {},
   "outputs": [],
   "source": [
    "Q1. How do you comment code in Python? What are the different types of comments?\n",
    "Ans.\n",
    "There are three types of comments in python:\n",
    "    1. Single line\n",
    "    2.multi line\n",
    "    3.docstring\n",
    "Q2. What are variables in Python? How do you declare and assign values to variables?\n",
    "Ans\n",
    "Python variables are simply containers for storing data values.\n",
    "eg. Age =30,name='avishek\",sex=\"male\"\n",
    "\n",
    "Q3. How do you convert one data type to another in Python?\n",
    "Ans.\n",
    "We can covert data type using funstion like str(),int(),float()\n",
    "Q4. How do you write and execute a Python script from the command line?\n",
    "Ans.\n",
    "First we have to check python available or not in CMD/Terminal using python/python3 if its availabe excute the program.\n",
    "if not available first install the python.\n",
    "Q5. Given a list my_list = [1, 2, 3, 4, 5], write the code to slice the list and obtain the sub-list [2, 3].\n",
    "Ans."
   ]
  },
  {
   "cell_type": "code",
   "execution_count": 3,
   "id": "95554cb3-9382-4afa-bff6-7dc4c9c31b8d",
   "metadata": {},
   "outputs": [
    {
     "data": {
      "text/plain": [
       "[2, 3]"
      ]
     },
     "execution_count": 3,
     "metadata": {},
     "output_type": "execute_result"
    }
   ],
   "source": [
    "my_list = [1, 2, 3, 4, 5]\n",
    "my_list[1:3]"
   ]
  },
  {
   "cell_type": "code",
   "execution_count": 14,
   "id": "c9b5ecf2-1dde-46a1-a283-27f838157adb",
   "metadata": {},
   "outputs": [
    {
     "ename": "SyntaxError",
     "evalue": "invalid syntax (2230551025.py, line 2)",
     "output_type": "error",
     "traceback": [
      "\u001b[0;36m  Cell \u001b[0;32mIn[14], line 2\u001b[0;36m\u001b[0m\n\u001b[0;31m    Ans.\u001b[0m\n\u001b[0m        ^\u001b[0m\n\u001b[0;31mSyntaxError\u001b[0m\u001b[0;31m:\u001b[0m invalid syntax\n"
     ]
    }
   ],
   "source": [
    "Q6. What is a complex number in mathematics, and how is it represented in Python?\n",
    "Ans.\n",
    "Complex numbers are the numbers that are expressed in the form of a+ib where a,b are real numbers and i is an imaginary number.\n",
    "The complex data type in python consists of two values the first one is the real part and second one is imaginory part.eg 3+5j\n",
    "Q7. What is the correct way to declare a variable named age and assign the value 25 to it?\n",
    "Ans.\n",
    "age= int(25)\n"
   ]
  },
  {
   "cell_type": "code",
   "execution_count": 13,
   "id": "1bd31d10-4a8e-4829-a035-595279667a2b",
   "metadata": {},
   "outputs": [
    {
     "data": {
      "text/plain": [
       "25"
      ]
     },
     "execution_count": 13,
     "metadata": {},
     "output_type": "execute_result"
    }
   ],
   "source": [
    "age= int(25)\n",
    "age"
   ]
  },
  {
   "cell_type": "code",
   "execution_count": null,
   "id": "405aea76-6f44-439f-9634-647f394a3611",
   "metadata": {},
   "outputs": [],
   "source": [
    "Q8. Declare a variable named price and assign the value 9.99 to it. What data type does this variable\n",
    "belong to?\n",
    "ans.\n",
    "This variable belongs to float data type."
   ]
  },
  {
   "cell_type": "code",
   "execution_count": 16,
   "id": "4e1d49c8-f044-4c8f-a4fc-a2d8c71536b8",
   "metadata": {},
   "outputs": [
    {
     "data": {
      "text/plain": [
       "9.99"
      ]
     },
     "execution_count": 16,
     "metadata": {},
     "output_type": "execute_result"
    }
   ],
   "source": [
    "price=float(9.99)\n",
    "price"
   ]
  },
  {
   "cell_type": "code",
   "execution_count": null,
   "id": "1879e5ea-09d7-4ca5-9ecf-24e1c3b3bc83",
   "metadata": {},
   "outputs": [],
   "source": [
    "Q9. Create a variable named name and assign your full name to it as a string. How would you print the\n",
    "value of this variable?\n"
   ]
  },
  {
   "cell_type": "code",
   "execution_count": 19,
   "id": "ce411dd7-2225-4392-95f8-025e677b466e",
   "metadata": {},
   "outputs": [
    {
     "data": {
      "text/plain": [
       "'Avishek Dubey'"
      ]
     },
     "execution_count": 19,
     "metadata": {},
     "output_type": "execute_result"
    }
   ],
   "source": [
    "name=str(\"Avishek Dubey\")\n",
    "name"
   ]
  },
  {
   "cell_type": "code",
   "execution_count": null,
   "id": "5f091bc1-9c7b-41bb-98c7-de5337cb785f",
   "metadata": {},
   "outputs": [],
   "source": [
    "Q10. Given the string \"Hello, World!\", extract the substring \"World\"."
   ]
  },
  {
   "cell_type": "code",
   "execution_count": 20,
   "id": "1037eb9c-40fd-4e1f-88c9-51b75e9e744d",
   "metadata": {},
   "outputs": [
    {
     "data": {
      "text/plain": [
       "'World'"
      ]
     },
     "execution_count": 20,
     "metadata": {},
     "output_type": "execute_result"
    }
   ],
   "source": [
    "s=\"Hello, World!\"\n",
    "s[7:12]"
   ]
  },
  {
   "cell_type": "code",
   "execution_count": null,
   "id": "a464ceff-3a71-45a4-8f37-cbfabe9452ef",
   "metadata": {},
   "outputs": [],
   "source": [
    "Q11. Create a variable named \"is_student\" and assign it a boolean value indicating whether you are\n",
    "currently a student or not."
   ]
  },
  {
   "cell_type": "code",
   "execution_count": 22,
   "id": "d280774e-49ac-44bf-8368-2c8953620ab1",
   "metadata": {},
   "outputs": [],
   "source": [
    "is_student=bool(True)\n"
   ]
  }
 ],
 "metadata": {
  "kernelspec": {
   "display_name": "Python 3 (ipykernel)",
   "language": "python",
   "name": "python3"
  },
  "language_info": {
   "codemirror_mode": {
    "name": "ipython",
    "version": 3
   },
   "file_extension": ".py",
   "mimetype": "text/x-python",
   "name": "python",
   "nbconvert_exporter": "python",
   "pygments_lexer": "ipython3",
   "version": "3.10.8"
  }
 },
 "nbformat": 4,
 "nbformat_minor": 5
}
